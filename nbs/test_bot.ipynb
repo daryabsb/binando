{
 "cells": [
  {
   "cell_type": "code",
   "execution_count": 1,
   "id": "a7e2d55c-d298-427b-b56f-62d89ff4b52d",
   "metadata": {},
   "outputs": [
    {
     "name": "stdout",
     "output_type": "stream",
     "text": [
      "THIS_FILE_PATH: E:\\api\\binando\\nbs\\setup.py\n",
      "NBS_DIR: E:\\api\\binando\\nbs\n",
      "REPO_DIR: E:\\api\\binando\n",
      "DJANGO_BASE_DIR: E:\\api\\binando\\src\n"
     ]
    }
   ],
   "source": [
    "import setup\n",
    "setup.init_django()"
   ]
  },
  {
   "cell_type": "code",
   "execution_count": 2,
   "id": "c601b10e-b4e4-40c0-aad5-b99d62b28df3",
   "metadata": {},
   "outputs": [],
   "source": [
    "from src.services.client import get_client"
   ]
  },
  {
   "cell_type": "code",
   "execution_count": 3,
   "id": "e83151a8-dafe-4703-96da-dca91a1e4aee",
   "metadata": {},
   "outputs": [],
   "source": [
    "from binance.client import Client"
   ]
  },
  {
   "cell_type": "code",
   "execution_count": 4,
   "id": "0c16da19-760e-4be7-8fec-b17b44e9f621",
   "metadata": {},
   "outputs": [],
   "source": [
    "from src.settings.components.env import config"
   ]
  },
  {
   "cell_type": "code",
   "execution_count": 5,
   "id": "911b2a0d-a7a5-4f82-b437-ab5ee3e493bd",
   "metadata": {},
   "outputs": [],
   "source": [
    "testnet=True\n",
    "api_key = 'ZwTtc3UG3nDGwfzMtUaW9Ks0KlxlcK0P7MSri3Goaw3qWOCYdCKCsoCGMrug3FM5'\n",
    "secret_key = 'sP3vClElxDQjNq5pZkmNRnwey2RCoP3kP4tBXoqJ8tMc10jhIsn0oMV6rjDQO6GV'"
   ]
  },
  {
   "cell_type": "code",
   "execution_count": 6,
   "id": "4dedd8e2-99a1-4000-b0fd-6ea2fdc31568",
   "metadata": {},
   "outputs": [],
   "source": [
    "client = Client(api_key,secret_key,tld='com')"
   ]
  },
  {
   "cell_type": "code",
   "execution_count": 7,
   "id": "5b63568d-18aa-4402-a5b0-c9865dac803c",
   "metadata": {},
   "outputs": [
    {
     "data": {
      "text/plain": [
       "{}"
      ]
     },
     "execution_count": 7,
     "metadata": {},
     "output_type": "execute_result"
    }
   ],
   "source": [
    "client.ping()"
   ]
  },
  {
   "cell_type": "code",
   "execution_count": 8,
   "id": "d3f4d436-1f8e-49cc-bf21-3e1f1c590f45",
   "metadata": {},
   "outputs": [],
   "source": [
    "from src.services.bnArb import BnArber"
   ]
  },
  {
   "cell_type": "code",
   "execution_count": 9,
   "id": "eb36807a-af2d-41f9-8a09-eb65d952a31c",
   "metadata": {},
   "outputs": [],
   "source": [
    "from src.services.config import data"
   ]
  },
  {
   "cell_type": "code",
   "execution_count": 10,
   "id": "3b8e869c-ce03-40c7-97c8-3b3288eed066",
   "metadata": {},
   "outputs": [
    {
     "ename": "BinanceAPIException",
     "evalue": "APIError(code=0): Invalid JSON error message from Binance: <html>\r\n<head><title>502 Bad Gateway</title></head>\r\n<body>\r\n<center><h1>502 Bad Gateway</h1></center>\r\n<hr><center>nginx</center>\r\n</body>\r\n</html>\r\n<!-- a padding to disable MSIE and Chrome friendly error page -->\r\n<!-- a padding to disable MSIE and Chrome friendly error page -->\r\n<!-- a padding to disable MSIE and Chrome friendly error page -->\r\n<!-- a padding to disable MSIE and Chrome friendly error page -->\r\n<!-- a padding to disable MSIE and Chrome friendly error page -->\r\n<!-- a padding to disable MSIE and Chrome friendly error page -->\r\n",
     "output_type": "error",
     "traceback": [
      "\u001b[31m---------------------------------------------------------------------------\u001b[39m",
      "\u001b[31mBinanceAPIException\u001b[39m                       Traceback (most recent call last)",
      "\u001b[36mCell\u001b[39m\u001b[36m \u001b[39m\u001b[32mIn[10]\u001b[39m\u001b[32m, line 3\u001b[39m\n\u001b[32m      1\u001b[39m curs = data[\u001b[33m\"\u001b[39m\u001b[33mcurrencies\u001b[39m\u001b[33m\"\u001b[39m]\n\u001b[32m      2\u001b[39m max_amount = data[\u001b[33m\"\u001b[39m\u001b[33mmax_amount\u001b[39m\u001b[33m\"\u001b[39m]\n\u001b[32m----> \u001b[39m\u001b[32m3\u001b[39m bna = \u001b[43mBnArber\u001b[49m\u001b[43m(\u001b[49m\u001b[43mcurs\u001b[49m\u001b[43m,\u001b[49m\u001b[43mmax_amount\u001b[49m\u001b[43m)\u001b[49m\n",
      "\u001b[36mFile \u001b[39m\u001b[32mE:\\api\\binando\\src\\services\\bnArb.py:55\u001b[39m, in \u001b[36mBnArber.__init__\u001b[39m\u001b[34m(self, curs, max_amount)\u001b[39m\n\u001b[32m     53\u001b[39m \u001b[38;5;28mself\u001b[39m.SMA_WINDOW = \u001b[32m20\u001b[39m\n\u001b[32m     54\u001b[39m \u001b[38;5;66;03m# Client(public, secret, tld='com', testnet=True)\u001b[39;00m\n\u001b[32m---> \u001b[39m\u001b[32m55\u001b[39m \u001b[38;5;28mself\u001b[39m.client = \u001b[43mget_client\u001b[49m\u001b[43m(\u001b[49m\u001b[43mtestnet\u001b[49m\u001b[43m=\u001b[49m\u001b[38;5;28;43;01mTrue\u001b[39;49;00m\u001b[43m)\u001b[49m\n\u001b[32m     56\u001b[39m \u001b[38;5;28mself\u001b[39m.precision = {}\n\u001b[32m     58\u001b[39m \u001b[38;5;28mself\u001b[39m.testnet = \u001b[38;5;28;01mTrue\u001b[39;00m\n",
      "\u001b[36mFile \u001b[39m\u001b[32mE:\\api\\binando\\src\\services\\client.py:55\u001b[39m, in \u001b[36mget_client\u001b[39m\u001b[34m(testnet)\u001b[39m\n\u001b[32m     52\u001b[39m PUBLIC = config(\u001b[33m'\u001b[39m\u001b[33mtest_api_key\u001b[39m\u001b[33m'\u001b[39m) \u001b[38;5;28;01mif\u001b[39;00m testnet \u001b[38;5;28;01melse\u001b[39;00m config(\u001b[33m'\u001b[39m\u001b[33mapi_key\u001b[39m\u001b[33m'\u001b[39m)\n\u001b[32m     53\u001b[39m SECRET = config(\u001b[33m'\u001b[39m\u001b[33mtest_secret_key\u001b[39m\u001b[33m'\u001b[39m) \u001b[38;5;28;01mif\u001b[39;00m testnet \u001b[38;5;28;01melse\u001b[39;00m config(\u001b[33m'\u001b[39m\u001b[33msecret_key\u001b[39m\u001b[33m'\u001b[39m)\n\u001b[32m---> \u001b[39m\u001b[32m55\u001b[39m client = \u001b[43mClient\u001b[49m\u001b[43m(\u001b[49m\u001b[43mPUBLIC\u001b[49m\u001b[43m,\u001b[49m\u001b[43m \u001b[49m\u001b[43mSECRET\u001b[49m\u001b[43m,\u001b[49m\u001b[43m \u001b[49m\u001b[43mtestnet\u001b[49m\u001b[43m=\u001b[49m\u001b[43mtestnet\u001b[49m\u001b[43m)\u001b[49m\n\u001b[32m     56\u001b[39m \u001b[38;5;28;01mreturn\u001b[39;00m client\n",
      "\u001b[36mFile \u001b[39m\u001b[32mE:\\api\\binando\\src\\services\\client.py:9\u001b[39m, in \u001b[36mClient.__init__\u001b[39m\u001b[34m(self, api_key, api_secret, testnet)\u001b[39m\n\u001b[32m      8\u001b[39m \u001b[38;5;28;01mdef\u001b[39;00m\u001b[38;5;250m \u001b[39m\u001b[34m__init__\u001b[39m(\u001b[38;5;28mself\u001b[39m, api_key, api_secret, testnet=\u001b[38;5;28;01mTrue\u001b[39;00m):\n\u001b[32m----> \u001b[39m\u001b[32m9\u001b[39m     \u001b[38;5;28;43msuper\u001b[39;49m\u001b[43m(\u001b[49m\u001b[43m)\u001b[49m\u001b[43m.\u001b[49m\u001b[34;43m__init__\u001b[39;49m\u001b[43m(\u001b[49m\u001b[43mapi_key\u001b[49m\u001b[43m,\u001b[49m\u001b[43m \u001b[49m\u001b[43mapi_secret\u001b[49m\u001b[43m,\u001b[49m\u001b[43m \u001b[49m\u001b[43mtld\u001b[49m\u001b[43m=\u001b[49m\u001b[33;43m'\u001b[39;49m\u001b[33;43mcom\u001b[39;49m\u001b[33;43m'\u001b[39;49m\u001b[43m,\u001b[49m\u001b[43m \u001b[49m\u001b[43mtestnet\u001b[49m\u001b[43m=\u001b[49m\u001b[43mtestnet\u001b[49m\u001b[43m)\u001b[49m\n\u001b[32m     11\u001b[39m     \u001b[38;5;66;03m# Synchronize time with Binance server\u001b[39;00m\n\u001b[32m     12\u001b[39m     \u001b[38;5;28mself\u001b[39m.sync_time()\n",
      "\u001b[36mFile \u001b[39m\u001b[32mE:\\api\\binando\\venv\\Lib\\site-packages\\binance\\client.py:51\u001b[39m, in \u001b[36mClient.__init__\u001b[39m\u001b[34m(self, api_key, api_secret, requests_params, tld, base_endpoint, testnet, private_key, private_key_pass, ping, time_unit)\u001b[39m\n\u001b[32m     49\u001b[39m \u001b[38;5;66;03m# init DNS and SSL cert\u001b[39;00m\n\u001b[32m     50\u001b[39m \u001b[38;5;28;01mif\u001b[39;00m ping:\n\u001b[32m---> \u001b[39m\u001b[32m51\u001b[39m     \u001b[38;5;28;43mself\u001b[39;49m\u001b[43m.\u001b[49m\u001b[43mping\u001b[49m\u001b[43m(\u001b[49m\u001b[43m)\u001b[49m\n",
      "\u001b[36mFile \u001b[39m\u001b[32mE:\\api\\binando\\venv\\Lib\\site-packages\\binance\\client.py:340\u001b[39m, in \u001b[36mClient.ping\u001b[39m\u001b[34m(self)\u001b[39m\n\u001b[32m    326\u001b[39m \u001b[38;5;28;01mdef\u001b[39;00m\u001b[38;5;250m \u001b[39m\u001b[34mping\u001b[39m(\u001b[38;5;28mself\u001b[39m) -> Dict:\n\u001b[32m    327\u001b[39m \u001b[38;5;250m    \u001b[39m\u001b[33;03m\"\"\"Test connectivity to the Rest API.\u001b[39;00m\n\u001b[32m    328\u001b[39m \n\u001b[32m    329\u001b[39m \u001b[33;03m    https://binance-docs.github.io/apidocs/spot/en/#test-connectivity\u001b[39;00m\n\u001b[32m   (...)\u001b[39m\u001b[32m    338\u001b[39m \n\u001b[32m    339\u001b[39m \u001b[33;03m    \"\"\"\u001b[39;00m\n\u001b[32m--> \u001b[39m\u001b[32m340\u001b[39m     \u001b[38;5;28;01mreturn\u001b[39;00m \u001b[38;5;28;43mself\u001b[39;49m\u001b[43m.\u001b[49m\u001b[43m_get\u001b[49m\u001b[43m(\u001b[49m\u001b[33;43m\"\u001b[39;49m\u001b[33;43mping\u001b[39;49m\u001b[33;43m\"\u001b[39;49m\u001b[43m,\u001b[49m\u001b[43m \u001b[49m\u001b[43mversion\u001b[49m\u001b[43m=\u001b[49m\u001b[38;5;28;43mself\u001b[39;49m\u001b[43m.\u001b[49m\u001b[43mPRIVATE_API_VERSION\u001b[49m\u001b[43m)\u001b[49m\n",
      "\u001b[36mFile \u001b[39m\u001b[32mE:\\api\\binando\\venv\\Lib\\site-packages\\binance\\client.py:176\u001b[39m, in \u001b[36mClient._get\u001b[39m\u001b[34m(self, path, signed, version, **kwargs)\u001b[39m\n\u001b[32m    175\u001b[39m \u001b[38;5;28;01mdef\u001b[39;00m\u001b[38;5;250m \u001b[39m\u001b[34m_get\u001b[39m(\u001b[38;5;28mself\u001b[39m, path, signed=\u001b[38;5;28;01mFalse\u001b[39;00m, version=BaseClient.PUBLIC_API_VERSION, **kwargs):\n\u001b[32m--> \u001b[39m\u001b[32m176\u001b[39m     \u001b[38;5;28;01mreturn\u001b[39;00m \u001b[38;5;28;43mself\u001b[39;49m\u001b[43m.\u001b[49m\u001b[43m_request_api\u001b[49m\u001b[43m(\u001b[49m\u001b[33;43m\"\u001b[39;49m\u001b[33;43mget\u001b[39;49m\u001b[33;43m\"\u001b[39;49m\u001b[43m,\u001b[49m\u001b[43m \u001b[49m\u001b[43mpath\u001b[49m\u001b[43m,\u001b[49m\u001b[43m \u001b[49m\u001b[43msigned\u001b[49m\u001b[43m,\u001b[49m\u001b[43m \u001b[49m\u001b[43mversion\u001b[49m\u001b[43m,\u001b[49m\u001b[43m \u001b[49m\u001b[43m*\u001b[49m\u001b[43m*\u001b[49m\u001b[43mkwargs\u001b[49m\u001b[43m)\u001b[49m\n",
      "\u001b[36mFile \u001b[39m\u001b[32mE:\\api\\binando\\venv\\Lib\\site-packages\\binance\\client.py:113\u001b[39m, in \u001b[36mClient._request_api\u001b[39m\u001b[34m(self, method, path, signed, version, **kwargs)\u001b[39m\n\u001b[32m    104\u001b[39m \u001b[38;5;28;01mdef\u001b[39;00m\u001b[38;5;250m \u001b[39m\u001b[34m_request_api\u001b[39m(\n\u001b[32m    105\u001b[39m     \u001b[38;5;28mself\u001b[39m,\n\u001b[32m    106\u001b[39m     method,\n\u001b[32m   (...)\u001b[39m\u001b[32m    110\u001b[39m     **kwargs,\n\u001b[32m    111\u001b[39m ):\n\u001b[32m    112\u001b[39m     uri = \u001b[38;5;28mself\u001b[39m._create_api_uri(path, signed, version)\n\u001b[32m--> \u001b[39m\u001b[32m113\u001b[39m     \u001b[38;5;28;01mreturn\u001b[39;00m \u001b[38;5;28;43mself\u001b[39;49m\u001b[43m.\u001b[49m\u001b[43m_request\u001b[49m\u001b[43m(\u001b[49m\u001b[43mmethod\u001b[49m\u001b[43m,\u001b[49m\u001b[43m \u001b[49m\u001b[43muri\u001b[49m\u001b[43m,\u001b[49m\u001b[43m \u001b[49m\u001b[43msigned\u001b[49m\u001b[43m,\u001b[49m\u001b[43m \u001b[49m\u001b[43m*\u001b[49m\u001b[43m*\u001b[49m\u001b[43mkwargs\u001b[49m\u001b[43m)\u001b[49m\n",
      "\u001b[36mFile \u001b[39m\u001b[32mE:\\api\\binando\\venv\\Lib\\site-packages\\binance\\client.py:89\u001b[39m, in \u001b[36mClient._request\u001b[39m\u001b[34m(self, method, uri, signed, force_params, **kwargs)\u001b[39m\n\u001b[32m     86\u001b[39m     data = \u001b[33mf\u001b[39m\u001b[33m\"\u001b[39m\u001b[38;5;132;01m{\u001b[39;00murl_encoded_data\u001b[38;5;132;01m}\u001b[39;00m\u001b[33m&signature=\u001b[39m\u001b[38;5;132;01m{\u001b[39;00msignature\u001b[38;5;132;01m}\u001b[39;00m\u001b[33m\"\u001b[39m\n\u001b[32m     88\u001b[39m \u001b[38;5;28mself\u001b[39m.response = \u001b[38;5;28mgetattr\u001b[39m(\u001b[38;5;28mself\u001b[39m.session, method)(uri, headers=headers, data=data, **kwargs)\n\u001b[32m---> \u001b[39m\u001b[32m89\u001b[39m \u001b[38;5;28;01mreturn\u001b[39;00m \u001b[38;5;28;43mself\u001b[39;49m\u001b[43m.\u001b[49m\u001b[43m_handle_response\u001b[49m\u001b[43m(\u001b[49m\u001b[38;5;28;43mself\u001b[39;49m\u001b[43m.\u001b[49m\u001b[43mresponse\u001b[49m\u001b[43m)\u001b[49m\n",
      "\u001b[36mFile \u001b[39m\u001b[32mE:\\api\\binando\\venv\\Lib\\site-packages\\binance\\client.py:98\u001b[39m, in \u001b[36mClient._handle_response\u001b[39m\u001b[34m(response)\u001b[39m\n\u001b[32m     93\u001b[39m \u001b[38;5;250m\u001b[39m\u001b[33;03m\"\"\"Internal helper for handling API responses from the Binance server.\u001b[39;00m\n\u001b[32m     94\u001b[39m \u001b[33;03mRaises the appropriate exceptions when necessary; otherwise, returns the\u001b[39;00m\n\u001b[32m     95\u001b[39m \u001b[33;03mresponse.\u001b[39;00m\n\u001b[32m     96\u001b[39m \u001b[33;03m\"\"\"\u001b[39;00m\n\u001b[32m     97\u001b[39m \u001b[38;5;28;01mif\u001b[39;00m \u001b[38;5;129;01mnot\u001b[39;00m (\u001b[32m200\u001b[39m <= response.status_code < \u001b[32m300\u001b[39m):\n\u001b[32m---> \u001b[39m\u001b[32m98\u001b[39m     \u001b[38;5;28;01mraise\u001b[39;00m BinanceAPIException(response, response.status_code, response.text)\n\u001b[32m     99\u001b[39m \u001b[38;5;28;01mtry\u001b[39;00m:\n\u001b[32m    100\u001b[39m     \u001b[38;5;28;01mreturn\u001b[39;00m response.json()\n",
      "\u001b[31mBinanceAPIException\u001b[39m: APIError(code=0): Invalid JSON error message from Binance: <html>\r\n<head><title>502 Bad Gateway</title></head>\r\n<body>\r\n<center><h1>502 Bad Gateway</h1></center>\r\n<hr><center>nginx</center>\r\n</body>\r\n</html>\r\n<!-- a padding to disable MSIE and Chrome friendly error page -->\r\n<!-- a padding to disable MSIE and Chrome friendly error page -->\r\n<!-- a padding to disable MSIE and Chrome friendly error page -->\r\n<!-- a padding to disable MSIE and Chrome friendly error page -->\r\n<!-- a padding to disable MSIE and Chrome friendly error page -->\r\n<!-- a padding to disable MSIE and Chrome friendly error page -->\r\n"
     ]
    }
   ],
   "source": [
    "curs = data[\"currencies\"]\n",
    "max_amount = data[\"max_amount\"]\n",
    "bna = BnArber(curs,max_amount)\n"
   ]
  },
  {
   "cell_type": "code",
   "execution_count": 17,
   "id": "0eeb4d98-2f4f-47ee-b3c8-ccae3b7a1c14",
   "metadata": {},
   "outputs": [
    {
     "data": {
      "text/plain": [
       "15"
      ]
     },
     "execution_count": 17,
     "metadata": {},
     "output_type": "execute_result"
    }
   ],
   "source": [
    "max"
   ]
  },
  {
   "cell_type": "code",
   "execution_count": null,
   "id": "e24e43c6-03d8-444e-9552-b5a0450b1ac9",
   "metadata": {},
   "outputs": [],
   "source": []
  }
 ],
 "metadata": {
  "kernelspec": {
   "display_name": "Python 3 (ipykernel)",
   "language": "python",
   "name": "python3"
  },
  "language_info": {
   "codemirror_mode": {
    "name": "ipython",
    "version": 3
   },
   "file_extension": ".py",
   "mimetype": "text/x-python",
   "name": "python",
   "nbconvert_exporter": "python",
   "pygments_lexer": "ipython3",
   "version": "3.11.8"
  }
 },
 "nbformat": 4,
 "nbformat_minor": 5
}
